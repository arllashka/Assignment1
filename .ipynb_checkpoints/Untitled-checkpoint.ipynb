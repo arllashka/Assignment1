{
 "cells": [
  {
   "cell_type": "code",
   "execution_count": null,
   "id": "3e359b22-79db-4bbc-bc6e-412c2514a3fe",
   "metadata": {},
   "outputs": [],
   "source": []
  },
  {
   "cell_type": "code",
   "execution_count": null,
   "id": "3b2aa10d-dbe5-4fad-803b-2a21ea8e0884",
   "metadata": {},
   "outputs": [],
   "source": []
  },
  {
   "cell_type": "code",
   "execution_count": 3,
   "id": "68de1a2b-efaa-49e6-b01d-3a1e0c95a9ee",
   "metadata": {},
   "outputs": [
    {
     "name": "stdout",
     "output_type": "stream",
     "text": [
      "/Users/arlankalin/Assignment1\n"
     ]
    }
   ],
   "source": [
    "import os\n",
    "print(os.getcwd())"
   ]
  },
  {
   "cell_type": "code",
   "execution_count": 5,
   "id": "bb011379-5db9-43f4-8139-7d5dada44c57",
   "metadata": {},
   "outputs": [
    {
     "ename": "IsADirectoryError",
     "evalue": "[Errno 21] Is a directory: '/Users/arlankalin/Assignment1'",
     "output_type": "error",
     "traceback": [
      "\u001b[0;31m---------------------------------------------------------------------------\u001b[0m",
      "\u001b[0;31mIsADirectoryError\u001b[0m                         Traceback (most recent call last)",
      "Cell \u001b[0;32mIn[5], line 26\u001b[0m\n\u001b[1;32m     19\u001b[0m infile \u001b[38;5;241m=\u001b[39m \u001b[38;5;124m'\u001b[39m\u001b[38;5;124m/Users/arlankalin/Assignment1\u001b[39m\u001b[38;5;124m'\u001b[39m \u001b[38;5;66;03m# Replace 'training.en' with your actual filename\u001b[39;00m\n\u001b[1;32m     21\u001b[0m \u001b[38;5;66;03m#This bit of code gives an example of how you might extract trigram counts\u001b[39;00m\n\u001b[1;32m     22\u001b[0m \u001b[38;5;66;03m#from a file, line by line. If you plan to use or modify this code,\u001b[39;00m\n\u001b[1;32m     23\u001b[0m \u001b[38;5;66;03m#please ensure you understand what it is actually doing, especially at the\u001b[39;00m\n\u001b[1;32m     24\u001b[0m \u001b[38;5;66;03m#beginning and end of each line. Depending on how you write the rest of\u001b[39;00m\n\u001b[1;32m     25\u001b[0m \u001b[38;5;66;03m#your program, you may need to modify this code.\u001b[39;00m\n\u001b[0;32m---> 26\u001b[0m \u001b[38;5;28;01mwith\u001b[39;00m \u001b[38;5;28;43mopen\u001b[39;49m\u001b[43m(\u001b[49m\u001b[43minfile\u001b[49m\u001b[43m)\u001b[49m \u001b[38;5;28;01mas\u001b[39;00m f:\n\u001b[1;32m     27\u001b[0m     \u001b[38;5;28;01mfor\u001b[39;00m line \u001b[38;5;129;01min\u001b[39;00m f:\n\u001b[1;32m     28\u001b[0m         line \u001b[38;5;241m=\u001b[39m preprocess_line(line) \u001b[38;5;66;03m#doesn't do anything yet.\u001b[39;00m\n",
      "File \u001b[0;32m/opt/homebrew/Cellar/jupyterlab/4.2.5_1/libexec/lib/python3.12/site-packages/IPython/core/interactiveshell.py:324\u001b[0m, in \u001b[0;36m_modified_open\u001b[0;34m(file, *args, **kwargs)\u001b[0m\n\u001b[1;32m    317\u001b[0m \u001b[38;5;28;01mif\u001b[39;00m file \u001b[38;5;129;01min\u001b[39;00m {\u001b[38;5;241m0\u001b[39m, \u001b[38;5;241m1\u001b[39m, \u001b[38;5;241m2\u001b[39m}:\n\u001b[1;32m    318\u001b[0m     \u001b[38;5;28;01mraise\u001b[39;00m \u001b[38;5;167;01mValueError\u001b[39;00m(\n\u001b[1;32m    319\u001b[0m         \u001b[38;5;124mf\u001b[39m\u001b[38;5;124m\"\u001b[39m\u001b[38;5;124mIPython won\u001b[39m\u001b[38;5;124m'\u001b[39m\u001b[38;5;124mt let you open fd=\u001b[39m\u001b[38;5;132;01m{\u001b[39;00mfile\u001b[38;5;132;01m}\u001b[39;00m\u001b[38;5;124m by default \u001b[39m\u001b[38;5;124m\"\u001b[39m\n\u001b[1;32m    320\u001b[0m         \u001b[38;5;124m\"\u001b[39m\u001b[38;5;124mas it is likely to crash IPython. If you know what you are doing, \u001b[39m\u001b[38;5;124m\"\u001b[39m\n\u001b[1;32m    321\u001b[0m         \u001b[38;5;124m\"\u001b[39m\u001b[38;5;124myou can use builtins\u001b[39m\u001b[38;5;124m'\u001b[39m\u001b[38;5;124m open.\u001b[39m\u001b[38;5;124m\"\u001b[39m\n\u001b[1;32m    322\u001b[0m     )\n\u001b[0;32m--> 324\u001b[0m \u001b[38;5;28;01mreturn\u001b[39;00m \u001b[43mio_open\u001b[49m\u001b[43m(\u001b[49m\u001b[43mfile\u001b[49m\u001b[43m,\u001b[49m\u001b[43m \u001b[49m\u001b[38;5;241;43m*\u001b[39;49m\u001b[43margs\u001b[49m\u001b[43m,\u001b[49m\u001b[43m \u001b[49m\u001b[38;5;241;43m*\u001b[39;49m\u001b[38;5;241;43m*\u001b[39;49m\u001b[43mkwargs\u001b[49m\u001b[43m)\u001b[49m\n",
      "\u001b[0;31mIsADirectoryError\u001b[0m: [Errno 21] Is a directory: '/Users/arlankalin/Assignment1'"
     ]
    }
   ],
   "source": [
    "import re\n",
    "import sys\n",
    "from random import random\n",
    "from math import log\n",
    "from collections import defaultdict\n",
    "\n",
    "\n",
    "tri_counts=defaultdict(int) #counts of all trigrams in input\n",
    "\n",
    "\n",
    "#this function currently does nothing.\n",
    "def preprocess_line(line):\n",
    "    return line\n",
    "\n",
    "\n",
    "#here we make sure the user provides a training filename when\n",
    "#calling this program, otherwise exit with a usage error.\n",
    "# Instead of relying on sys.argv, we directly assign the filename\n",
    "infile = '/Users/arlankalin/Assignment1/assignment1-data/training.en' # Replace 'training.en' with your actual filename\n",
    "\n",
    "#This bit of code gives an example of how you might extract trigram counts\n",
    "#from a file, line by line. If you plan to use or modify this code,\n",
    "#please ensure you understand what it is actually doing, especially at the\n",
    "#beginning and end of each line. Depending on how you write the rest of\n",
    "#your program, you may need to modify this code.\n",
    "with open(infile) as f:\n",
    "    for line in f:\n",
    "        line = preprocess_line(line) #doesn't do anything yet.\n",
    "        for j in range(len(line)-(3)):\n",
    "            trigram = line[j:j+3]\n",
    "            tri_counts[trigram] += 1\n",
    "\n",
    "#Some example code that prints out the counts. For small input files\n",
    "#the counts are easy to look at but for larger files you can redirect\n",
    "#to an output file (see Lab 1).\n",
    "print(\"Trigram counts in \", infile, \", sorted alphabetically:\")\n",
    "for trigram in sorted(tri_counts.keys()):\n",
    "    print(trigram, \": \", tri_counts[trigram])\n",
    "print(\"Trigram counts in \", infile, \", sorted numerically:\")\n",
    "for tri_count in sorted(tri_counts.items(), key=lambda x:x[1], reverse = True):\n",
    "    print(tri_count[0], \": \", str(tri_count[1]))"
   ]
  },
  {
   "cell_type": "code",
   "execution_count": null,
   "id": "4acf18b3-e395-423c-a7c9-5dccccdde44f",
   "metadata": {},
   "outputs": [],
   "source": []
  }
 ],
 "metadata": {
  "kernelspec": {
   "display_name": "Python 3 (ipykernel)",
   "language": "python",
   "name": "python3"
  },
  "language_info": {
   "codemirror_mode": {
    "name": "ipython",
    "version": 3
   },
   "file_extension": ".py",
   "mimetype": "text/x-python",
   "name": "python",
   "nbconvert_exporter": "python",
   "pygments_lexer": "ipython3",
   "version": "3.12.6"
  }
 },
 "nbformat": 4,
 "nbformat_minor": 5
}
